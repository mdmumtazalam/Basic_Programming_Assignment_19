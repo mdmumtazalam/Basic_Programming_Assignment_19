{
  "cells": [
    {
      "cell_type": "markdown",
      "id": "ce6ad5e3",
      "metadata": {
        "id": "ce6ad5e3"
      },
      "source": [
        "# Basic_Programming_Assignment_19 Solution :-\n",
        "SUBMITTED BY : MD MUMTAZ ALAM"
      ]
    },
    {
      "cell_type": "markdown",
      "id": "f3b12fd9",
      "metadata": {
        "id": "f3b12fd9"
      },
      "source": [
        "## 1.Create a function that takes a string and returns a string in which each character is repeated once.\n",
        "\n",
        "###### Examples:\n",
        "\n",
        "double_char(\"String\") ➞ \"SSttrriinngg\"\n",
        "\n",
        "double_char(\"Hello World!\") ➞ \"HHeelllloo WWoorrlldd!!\"\n",
        "\n",
        "doublechar(\"1234!_\") ➞ \"11223344!!__\""
      ]
    },
    {
      "cell_type": "code",
      "execution_count": null,
      "id": "64020b40",
      "metadata": {
        "id": "64020b40",
        "outputId": "7a6c0da0-87f1-466d-8741-7a34ea933a4f"
      },
      "outputs": [
        {
          "name": "stdout",
          "output_type": "stream",
          "text": [
            "➞ SSttrriinngg\n",
            "➞ HHeelllloo  WWoorrlldd!!\n",
            "➞ 11223344!!__\n"
          ]
        }
      ],
      "source": [
        "def double_char(in_string):\n",
        "    out_string = ''\n",
        "    for ele in in_string:\n",
        "        out_string += ele*2\n",
        "    return out_string\n",
        "\n",
        "print(f'➞ {double_char(\"String\")}')\n",
        "print(f'➞ {double_char(\"Hello World!\")}')\n",
        "print(f'➞ {double_char(\"1234!_\")}')"
      ]
    },
    {
      "cell_type": "markdown",
      "id": "246b0e45",
      "metadata": {
        "id": "246b0e45"
      },
      "source": [
        "## 2.Create a function that reverses a boolean value and returns the string \"boolean expected\" if another variable type is given.\n",
        "\n",
        "###### Examples:\n",
        "\n",
        "reverse(True) ➞ False\n",
        "\n",
        "reverse(False) ➞ True\n",
        "\n",
        "reverse(0) ➞ \"boolean expected\"\n",
        "\n",
        "reverse(None) ➞ \"boolean expected\""
      ]
    },
    {
      "cell_type": "code",
      "execution_count": null,
      "id": "4fe384c2",
      "metadata": {
        "id": "4fe384c2",
        "outputId": "b05d9d0c-a96f-46e9-d7b4-658ae1d19ffd"
      },
      "outputs": [
        {
          "name": "stdout",
          "output_type": "stream",
          "text": [
            "reverse(True) ➞ False\n",
            "reverse(False) ➞ True\n",
            "reverse(0) ➞ Boolean Expected\n",
            "reverse(None) ➞ Boolean Expected\n"
          ]
        }
      ],
      "source": [
        "def reverse(in_bool):\n",
        "    if type(in_bool) == bool:\n",
        "        return not in_bool\n",
        "    else:\n",
        "        return \"Boolean Expected\"\n",
        "\n",
        "print(f'reverse(True) ➞ {reverse(True)}')\n",
        "print(f'reverse(False) ➞ {reverse(False)}')\n",
        "print(f'reverse(0) ➞ {reverse(0)}')\n",
        "print(f'reverse(None) ➞ {reverse(None)}')"
      ]
    },
    {
      "cell_type": "markdown",
      "id": "a13d1c43",
      "metadata": {
        "id": "a13d1c43"
      },
      "source": [
        "## 3. Create a function that returns the thickness (in meters) of a piece of paper after folding it n number of times. The paper starts off with a thickness of 0.5mm.\n",
        "\n",
        "###### Examples:\n",
        "\n",
        "num_layers(1) ➞ \"0.001m\" # Paper folded once is 1mm (equal to 0.001m) num_layers(4) ➞ \"0.008m\" # Paper folded 4 times is 8mm (equal to 0.008m) num_layers(21) ➞ \"1048.576m\" # Paper folded 21 times is 1048576mm (equal to 1048.576m)"
      ]
    },
    {
      "cell_type": "code",
      "execution_count": null,
      "id": "ccf5ddbc",
      "metadata": {
        "id": "ccf5ddbc",
        "outputId": "f8ee7c9b-7e43-4ea4-ca42-761afd762741"
      },
      "outputs": [
        {
          "name": "stdout",
          "output_type": "stream",
          "text": [
            "Output ➞ 0.001m\n",
            "Output ➞ 0.008m\n",
            "Output ➞ 1048.576m\n"
          ]
        }
      ],
      "source": [
        "def num_layers(in_num):\n",
        "    out_num = 0.5\n",
        "    for ele in range(in_num):\n",
        "        out_num *= 2\n",
        "    print(f'Output ➞ {out_num/1000}m')\n",
        "    \n",
        "num_layers(1)\n",
        "num_layers(4)\n",
        "num_layers(21)"
      ]
    },
    {
      "cell_type": "markdown",
      "id": "302b75f5",
      "metadata": {
        "id": "302b75f5"
      },
      "source": [
        "## 4.Create a function that takes a single string as argument and returns an ordered list containing the indices of all capital letters in the string.\n",
        "\n",
        "###### Examples:\n",
        "\n",
        "index_of_caps(\"eDaBiT\") ➞ [1, 3, 5]\n",
        "\n",
        "index_of_caps(\"eQuINoX\") ➞ [1, 3, 4, 6]\n",
        "\n",
        "index_of_caps(\"determine\") ➞ []\n",
        "\n",
        "index_of_caps(\"STRIKE\") ➞ [0, 1, 2, 3, 4, 5]\n",
        "\n",
        "index_of_caps(\"sUn\") ➞ [1]"
      ]
    },
    {
      "cell_type": "code",
      "execution_count": null,
      "id": "c55c5372",
      "metadata": {
        "id": "c55c5372",
        "outputId": "0b403f9a-f089-4aca-b83d-16a47b3b5c02"
      },
      "outputs": [
        {
          "name": "stdout",
          "output_type": "stream",
          "text": [
            "eDaBiT ➞ [1, 3, 5]\n",
            "eQuINoX ➞ [1, 3, 4, 6]\n",
            "determine ➞ []\n",
            "STRIKE ➞ [0, 1, 2, 3, 4, 5]\n",
            "sUn ➞ [1]\n"
          ]
        }
      ],
      "source": [
        "def index_of_caps(in_string):\n",
        "    out_string = []\n",
        "    for ele in in_string:\n",
        "        if ele.isupper():\n",
        "            out_string.append(in_string.index(ele))\n",
        "    print(f'{in_string} ➞ {out_string}')\n",
        "\n",
        "index_of_caps(\"eDaBiT\")\n",
        "index_of_caps(\"eQuINoX\")\n",
        "index_of_caps(\"determine\")\n",
        "index_of_caps(\"STRIKE\")\n",
        "index_of_caps(\"sUn\")"
      ]
    },
    {
      "cell_type": "markdown",
      "id": "d8d72890",
      "metadata": {
        "id": "d8d72890"
      },
      "source": [
        "## 5.Using list comprehensions, create a function that finds all even numbers from 1 to the given number.\n",
        "\n",
        "###### Examples:\n",
        "\n",
        "find_even_nums(8) ➞ [2, 4, 6, 8]\n",
        "\n",
        "find_even_nums(4) ➞ [2, 4]\n",
        "\n",
        "find_even_nums(2) ➞ [2]"
      ]
    },
    {
      "cell_type": "code",
      "execution_count": null,
      "id": "02b1ec8c",
      "metadata": {
        "id": "02b1ec8c",
        "outputId": "c89e4edb-c4e5-4da3-d1b6-3d3baf3154f5"
      },
      "outputs": [
        {
          "name": "stdout",
          "output_type": "stream",
          "text": [
            "Output ➞ [2, 4, 6, 8]\n",
            "Output ➞ [2, 4]\n",
            "Output ➞ [2]\n"
          ]
        }
      ],
      "source": [
        "def find_even_nums(in_num):\n",
        "    out_list = [i for i in range(1,in_num+1) if i%2 == 0]\n",
        "    print(f'Output ➞ {out_list}')\n",
        "    \n",
        "find_even_nums(8)\n",
        "find_even_nums(4)\n",
        "find_even_nums(2)"
      ]
    },
    {
      "cell_type": "markdown",
      "id": "7824a322",
      "metadata": {
        "id": "7824a322"
      },
      "source": [
        "# Thank You"
      ]
    }
  ],
  "metadata": {
    "kernelspec": {
      "display_name": "Python 3 (ipykernel)",
      "language": "python",
      "name": "python3"
    },
    "language_info": {
      "codemirror_mode": {
        "name": "ipython",
        "version": 3
      },
      "file_extension": ".py",
      "mimetype": "text/x-python",
      "name": "python",
      "nbconvert_exporter": "python",
      "pygments_lexer": "ipython3",
      "version": "3.9.7"
    },
    "colab": {
      "provenance": []
    }
  },
  "nbformat": 4,
  "nbformat_minor": 5
}